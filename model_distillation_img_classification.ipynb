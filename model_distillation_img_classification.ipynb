{
  "nbformat": 4,
  "nbformat_minor": 0,
  "metadata": {
    "colab": {
      "provenance": [],
      "gpuType": "T4"
    },
    "kernelspec": {
      "name": "python3",
      "display_name": "Python 3"
    },
    "language_info": {
      "name": "python"
    },
    "accelerator": "GPU"
  },
  "cells": [
    {
      "cell_type": "code",
      "source": [
        "from google.colab import drive\n",
        "drive.mount('/content/drive')"
      ],
      "metadata": {
        "colab": {
          "base_uri": "https://localhost:8080/"
        },
        "id": "jHBLBCZ9C90B",
        "outputId": "17f1f9b5-d4bb-4b16-fe8e-733901af8719"
      },
      "execution_count": 1,
      "outputs": [
        {
          "output_type": "stream",
          "name": "stdout",
          "text": [
            "Mounted at /content/drive\n"
          ]
        }
      ]
    },
    {
      "cell_type": "code",
      "source": [
        "!unzip /content/drive/MyDrive/klimb_llm_optimization_challenge.zip"
      ],
      "metadata": {
        "id": "UIN_PM0FC94L"
      },
      "execution_count": null,
      "outputs": []
    },
    {
      "cell_type": "code",
      "execution_count": 3,
      "metadata": {
        "id": "L1_M_jp1Cvw4",
        "colab": {
          "base_uri": "https://localhost:8080/"
        },
        "outputId": "aebbc796-be8e-4eea-dd01-c56ad8be9a68"
      },
      "outputs": [
        {
          "output_type": "stream",
          "name": "stdout",
          "text": [
            "Found 14034 files belonging to 6 classes.\n",
            "Using 11228 files for training.\n",
            "Found 3000 files belonging to 6 classes.\n",
            "Using 600 files for validation.\n",
            "Downloading data from https://storage.googleapis.com/tensorflow/keras-applications/resnet/resnet152_weights_tf_dim_ordering_tf_kernels_notop.h5\n",
            "234698864/234698864 [==============================] - 11s 0us/step\n",
            "Model: \"model\"\n",
            "_________________________________________________________________\n",
            " Layer (type)                Output Shape              Param #   \n",
            "=================================================================\n",
            " input_2 (InputLayer)        [(None, 150, 150, 3)]     0         \n",
            "                                                                 \n",
            " resnet152 (Functional)      (None, 5, 5, 2048)        58370944  \n",
            "                                                                 \n",
            " global_average_pooling2d (  (None, 2048)              0         \n",
            " GlobalAveragePooling2D)                                         \n",
            "                                                                 \n",
            " dense (Dense)               (None, 6)                 12294     \n",
            "                                                                 \n",
            "=================================================================\n",
            "Total params: 58383238 (222.71 MB)\n",
            "Trainable params: 12294 (48.02 KB)\n",
            "Non-trainable params: 58370944 (222.67 MB)\n",
            "_________________________________________________________________\n",
            "Epoch 1/20\n",
            "351/351 [==============================] - 59s 133ms/step - loss: 0.4061 - sparse_categorical_accuracy: 0.8564\n",
            "Epoch 2/20\n",
            "351/351 [==============================] - 47s 133ms/step - loss: 0.2509 - sparse_categorical_accuracy: 0.9108\n",
            "Epoch 3/20\n",
            "351/351 [==============================] - 48s 135ms/step - loss: 0.2099 - sparse_categorical_accuracy: 0.9267\n",
            "Epoch 4/20\n",
            "351/351 [==============================] - 48s 136ms/step - loss: 0.1801 - sparse_categorical_accuracy: 0.9353\n",
            "Epoch 5/20\n",
            "351/351 [==============================] - 48s 135ms/step - loss: 0.1575 - sparse_categorical_accuracy: 0.9442\n",
            "Epoch 6/20\n",
            "351/351 [==============================] - 48s 136ms/step - loss: 0.1433 - sparse_categorical_accuracy: 0.9488\n",
            "Epoch 7/20\n",
            "351/351 [==============================] - 48s 136ms/step - loss: 0.1271 - sparse_categorical_accuracy: 0.9565\n",
            "Epoch 8/20\n",
            "351/351 [==============================] - 47s 135ms/step - loss: 0.1164 - sparse_categorical_accuracy: 0.9601\n",
            "Epoch 9/20\n",
            "351/351 [==============================] - 48s 135ms/step - loss: 0.1036 - sparse_categorical_accuracy: 0.9657\n",
            "Epoch 10/20\n",
            "351/351 [==============================] - 48s 136ms/step - loss: 0.0974 - sparse_categorical_accuracy: 0.9654\n",
            "Epoch 11/20\n",
            "351/351 [==============================] - 48s 136ms/step - loss: 0.0905 - sparse_categorical_accuracy: 0.9691\n",
            "Epoch 12/20\n",
            "351/351 [==============================] - 48s 135ms/step - loss: 0.0879 - sparse_categorical_accuracy: 0.9703\n",
            "Epoch 13/20\n",
            "351/351 [==============================] - 47s 134ms/step - loss: 0.0794 - sparse_categorical_accuracy: 0.9737\n",
            "Epoch 14/20\n",
            "351/351 [==============================] - 47s 134ms/step - loss: 0.0742 - sparse_categorical_accuracy: 0.9770\n",
            "Epoch 15/20\n",
            "351/351 [==============================] - 47s 134ms/step - loss: 0.0714 - sparse_categorical_accuracy: 0.9762\n",
            "Epoch 16/20\n",
            "351/351 [==============================] - 48s 135ms/step - loss: 0.0668 - sparse_categorical_accuracy: 0.9795\n",
            "Epoch 17/20\n",
            "351/351 [==============================] - 47s 135ms/step - loss: 0.0675 - sparse_categorical_accuracy: 0.9787\n",
            "Epoch 18/20\n",
            "351/351 [==============================] - 48s 135ms/step - loss: 0.0624 - sparse_categorical_accuracy: 0.9812\n",
            "Epoch 19/20\n",
            "351/351 [==============================] - 47s 135ms/step - loss: 0.0557 - sparse_categorical_accuracy: 0.9825\n",
            "Epoch 20/20\n",
            "351/351 [==============================] - 47s 134ms/step - loss: 0.0516 - sparse_categorical_accuracy: 0.9848\n",
            "19/19 [==============================] - 7s 197ms/step - loss: 0.4033 - sparse_categorical_accuracy: 0.8900\n",
            "Test accuracy with trained teacher model:89.00 %\n"
          ]
        }
      ],
      "source": [
        "import numpy as np\n",
        "import tensorflow as tf\n",
        "from tensorflow import keras\n",
        "import matplotlib.pyplot as plt\n",
        "from tensorflow.keras import layers\n",
        "\n",
        "# Path of train and test data\n",
        "train_dir = \"/content/klimb_llm_optimization_challenge/seg_train\"\n",
        "test_dir = \"/content/klimb_llm_optimization_challenge/seg_test/\"\n",
        "\n",
        "# Data configs\n",
        "batch_size = 32\n",
        "img_height = 150\n",
        "img_width = 150\n",
        "\n",
        "# Load train data\n",
        "train_ds = tf.keras.utils.image_dataset_from_directory(\n",
        "\ttrain_dir,\n",
        "  validation_split=0.2,\n",
        "  subset=\"training\",\n",
        "  seed=123,\n",
        "  image_size=(img_height, img_width),\n",
        "  batch_size=batch_size)\n",
        "\n",
        "# Load test data\n",
        "test_ds = tf.keras.utils.image_dataset_from_directory(\n",
        "  test_dir,\n",
        "  validation_split=0.2,\n",
        "  subset=\"validation\",\n",
        "  seed=123,\n",
        "  image_size=(img_height, img_width),\n",
        "  batch_size=batch_size)\n",
        "\n",
        "\n",
        "# Training the MASTER Model - using Transfer Learning\n",
        "# Here we are using ImageNet pre-trained model weights\n",
        "base_model = keras.applications.ResNet152(\n",
        "\t\tweights='imagenet',  # Load weights pre-trained on ImageNet.\n",
        "\t\tinput_shape=(img_height, img_width, 3),\n",
        "\t\tinclude_top=False)  # Do not include the ImageNet classifier at the top.\n",
        "base_model.trainable = False\n",
        "inputs = keras.Input(shape=(img_height, img_width, 3))\n",
        "# We make sure that the base_model is running in inference mode here,\n",
        "# by passing `training=False`. This is important for fine-tuning.\n",
        "x = base_model(inputs, training=False)\n",
        "# Convert features of shape `base_model.output_shape[1:]` to vectors\n",
        "x = keras.layers.GlobalAveragePooling2D()(x)\n",
        "# A Dense classifier with a single unit (binary classification)\n",
        "outputs = keras.layers.Dense(6)(x)\n",
        "model = keras.Model(inputs, outputs)\n",
        "model.summary()\n",
        "model.compile(\n",
        "\t\toptimizer=keras.optimizers.Adam(),\n",
        "\t\tloss=keras.losses.SparseCategoricalCrossentropy(from_logits=True),\n",
        "\t\tmetrics=[keras.metrics.SparseCategoricalAccuracy()],\n",
        ")\n",
        "\n",
        "epochs = 20\n",
        "model.fit(train_ds, epochs=epochs)\n",
        "\n",
        "# Generate results on test data\n",
        "results = model.evaluate(test_ds)\n",
        "print(f\"Test accuracy with trained teacher model:{results[1]*100 :.2f} %\")"
      ]
    },
    {
      "cell_type": "code",
      "source": [
        "student = keras.Sequential(\n",
        "    [\n",
        "        keras.Input(shape=(150, 150, 3,1)),\n",
        "        layers.Conv3D(16, 3, strides=(2, 2,2), padding=\"same\"),\n",
        "        layers.LeakyReLU(),\n",
        "        layers.MaxPooling3D(pool_size=(2, 2,2), strides=(1, 1\n",
        "        ,1), padding=\"same\"),\n",
        "        layers.Conv3D(16, (3, 3,3), strides=(2, 2,2), padding=\"same\"),\n",
        "        layers.Flatten(),\n",
        "        layers.Dense(6),\n",
        "    ],\n",
        "    name=\"student\",\n",
        ")"
      ],
      "metadata": {
        "id": "LsBOSBdHD8iw"
      },
      "execution_count": 22,
      "outputs": []
    },
    {
      "cell_type": "code",
      "source": [
        "student.summary()"
      ],
      "metadata": {
        "colab": {
          "base_uri": "https://localhost:8080/"
        },
        "id": "P7vEK3E8lOHj",
        "outputId": "294d28cb-4300-4896-ccbd-04e86a958f56"
      },
      "execution_count": 23,
      "outputs": [
        {
          "output_type": "stream",
          "name": "stdout",
          "text": [
            "Model: \"student\"\n",
            "_________________________________________________________________\n",
            " Layer (type)                Output Shape              Param #   \n",
            "=================================================================\n",
            " conv3d_4 (Conv3D)           (None, 75, 75, 2, 16)     448       \n",
            "                                                                 \n",
            " leaky_re_lu_3 (LeakyReLU)   (None, 75, 75, 2, 16)     0         \n",
            "                                                                 \n",
            " max_pooling3d_3 (MaxPoolin  (None, 75, 75, 2, 16)     0         \n",
            " g3D)                                                            \n",
            "                                                                 \n",
            " conv3d_5 (Conv3D)           (None, 38, 38, 1, 16)     6928      \n",
            "                                                                 \n",
            " flatten_3 (Flatten)         (None, 23104)             0         \n",
            "                                                                 \n",
            " dense_4 (Dense)             (None, 6)                 138630    \n",
            "                                                                 \n",
            "=================================================================\n",
            "Total params: 146006 (570.34 KB)\n",
            "Trainable params: 146006 (570.34 KB)\n",
            "Non-trainable params: 0 (0.00 Byte)\n",
            "_________________________________________________________________\n"
          ]
        }
      ]
    },
    {
      "cell_type": "code",
      "source": [
        "class Distiller(keras.Model):\n",
        "    def __init__(self, student, teacher):\n",
        "        super().__init__()\n",
        "        self.teacher = teacher\n",
        "        self.student = student\n",
        "\n",
        "    def compile(\n",
        "        self,\n",
        "        optimizer,\n",
        "        metrics,\n",
        "        student_loss_fn,\n",
        "        distillation_loss_fn,\n",
        "        alpha=0.1,\n",
        "        temperature=3,\n",
        "    ):\n",
        "        \"\"\"Configure the distiller.\n",
        "\n",
        "        Args:\n",
        "            optimizer: Keras optimizer for the student weights\n",
        "            metrics: Keras metrics for evaluation\n",
        "            student_loss_fn: Loss function of difference between student\n",
        "                predictions and ground-truth\n",
        "            distillation_loss_fn: Loss function of difference between soft\n",
        "                student predictions and soft teacher predictions\n",
        "            alpha: weight to student_loss_fn and 1-alpha to distillation_loss_fn\n",
        "            temperature: Temperature for softening probability distributions.\n",
        "                Larger temperature gives softer distributions.\n",
        "        \"\"\"\n",
        "        super().compile(optimizer=optimizer, metrics=metrics)\n",
        "        self.student_loss_fn = student_loss_fn\n",
        "        self.distillation_loss_fn = distillation_loss_fn\n",
        "        self.alpha = alpha\n",
        "        self.temperature = temperature\n",
        "\n",
        "    def compute_loss(\n",
        "        self, x=None, y=None, y_pred=None, sample_weight=None, allow_empty=False\n",
        "    ):\n",
        "        teacher_pred = self.teacher(x, training=False)\n",
        "        student_loss = self.student_loss_fn(y, y_pred)\n",
        "        distillation_loss = self.distillation_loss_fn(\n",
        "                tf.nn.softmax(teacher_pred / self.temperature, axis=1),\n",
        "                tf.nn.softmax(teacher_pred / self.temperature, axis=1),\n",
        "            )\n",
        "\n",
        "        loss = self.alpha * student_loss + (1 - self.alpha) * distillation_loss\n",
        "        return loss\n",
        "\n",
        "    def call(self, x):\n",
        "        return self.student(x)\n"
      ],
      "metadata": {
        "id": "b2dCAgaIDK32"
      },
      "execution_count": 12,
      "outputs": []
    },
    {
      "cell_type": "code",
      "source": [
        "# Initialize and compile distiller\n",
        "distiller = Distiller(student=student, teacher=model)\n",
        "distiller.compile(\n",
        "    optimizer=keras.optimizers.Adam(),\n",
        "    metrics=[keras.metrics.SparseCategoricalAccuracy()],\n",
        "    student_loss_fn=keras.losses.SparseCategoricalCrossentropy(from_logits=True),\n",
        "    distillation_loss_fn=keras.losses.KLDivergence(),\n",
        "    alpha=0.1,\n",
        "    temperature=10,\n",
        ")\n",
        "\n",
        "# Distill teacher to student\n",
        "distiller.fit(train_ds, epochs=3)\n",
        "\n",
        "# Evaluate student on test dataset\n",
        "distiller.evaluate(test_ds)"
      ],
      "metadata": {
        "colab": {
          "base_uri": "https://localhost:8080/"
        },
        "id": "24llkcoqn61f",
        "outputId": "d627e715-afbe-436c-c7d9-d74368351d8b"
      },
      "execution_count": 26,
      "outputs": [
        {
          "output_type": "stream",
          "name": "stdout",
          "text": [
            "Epoch 1/3\n",
            "351/351 [==============================] - 60s 138ms/step - sparse_categorical_accuracy: 0.8864\n",
            "Epoch 2/3\n",
            "351/351 [==============================] - 48s 138ms/step - sparse_categorical_accuracy: 0.8897\n",
            "Epoch 3/3\n",
            "351/351 [==============================] - 50s 141ms/step - sparse_categorical_accuracy: 0.9098\n",
            "19/19 [==============================] - 3s 19ms/step - sparse_categorical_accuracy: 0.5833\n"
          ]
        },
        {
          "output_type": "execute_result",
          "data": {
            "text/plain": [
              "0.5833333134651184"
            ]
          },
          "metadata": {},
          "execution_count": 26
        }
      ]
    },
    {
      "cell_type": "code",
      "source": [
        "import sys\n",
        "model_size_ratio = sys.getsizeof(model)/sys.getsizeof(student)\n",
        "print(\"model_size_ratio : \",model_size_ratio)"
      ],
      "metadata": {
        "id": "z0tgYD-kHueR",
        "colab": {
          "base_uri": "https://localhost:8080/"
        },
        "outputId": "9dd657a6-9335-4e29-b4ab-684c14a105ea"
      },
      "execution_count": 27,
      "outputs": [
        {
          "output_type": "stream",
          "name": "stdout",
          "text": [
            "model_size_ratio :  1.0\n"
          ]
        }
      ]
    },
    {
      "cell_type": "code",
      "source": [
        "model_parameter_ratio = 12294/146006\n",
        "model_parameter_ratio"
      ],
      "metadata": {
        "id": "EO9fPBEEKaH6",
        "colab": {
          "base_uri": "https://localhost:8080/"
        },
        "outputId": "90d3023a-aa40-4e28-b702-76060432eece"
      },
      "execution_count": 30,
      "outputs": [
        {
          "output_type": "execute_result",
          "data": {
            "text/plain": [
              "0.08420201909510568"
            ]
          },
          "metadata": {},
          "execution_count": 30
        }
      ]
    },
    {
      "cell_type": "code",
      "source": [
        "x = np.random.randint(0,255,(150,150,3))\n",
        "x = np.expand_dims(x, axis=0)\n"
      ],
      "metadata": {
        "id": "kpuuK-zslUdm"
      },
      "execution_count": 31,
      "outputs": []
    },
    {
      "cell_type": "code",
      "source": [
        "import time\n",
        "start = time.time()\n",
        "result = distiller.predict(x)\n",
        "print(\"time taken by student model:\",time.time()-start)"
      ],
      "metadata": {
        "id": "Lb4fuqpXK5g-",
        "colab": {
          "base_uri": "https://localhost:8080/"
        },
        "outputId": "c5059a6b-12b8-47d8-a741-0c8c8d8b050f"
      },
      "execution_count": 32,
      "outputs": [
        {
          "output_type": "stream",
          "name": "stdout",
          "text": [
            "1/1 [==============================] - 0s 81ms/step\n",
            "time taken by student model: 0.17504167556762695\n"
          ]
        }
      ]
    },
    {
      "cell_type": "code",
      "source": [
        "import time\n",
        "start = time.time()\n",
        "result = model.predict(x)\n",
        "print(\"time taken by master model:\",time.time()-start)"
      ],
      "metadata": {
        "colab": {
          "base_uri": "https://localhost:8080/"
        },
        "id": "cv27M_Edl7qz",
        "outputId": "89bc7b35-c22f-4209-d22c-73522ed89308"
      },
      "execution_count": 18,
      "outputs": [
        {
          "output_type": "stream",
          "name": "stdout",
          "text": [
            "1/1 [==============================] - 4s 4s/step\n",
            "time taken by master model: 4.19510555267334\n"
          ]
        }
      ]
    },
    {
      "cell_type": "code",
      "source": [],
      "metadata": {
        "id": "DXqVaAj0nfxl"
      },
      "execution_count": null,
      "outputs": []
    }
  ]
}